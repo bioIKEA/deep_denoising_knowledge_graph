{
 "cells": [
  {
   "cell_type": "code",
   "execution_count": null,
   "metadata": {},
   "outputs": [],
   "source": [
    "from netgan.netgan import *\n",
    "import tensorflow as tf\n",
    "from netgan import utils\n",
    "import scipy.sparse as sp\n",
    "import numpy as np\n",
    "from matplotlib import pyplot as plt\n",
    "from sklearn.metrics import roc_auc_score, average_precision_score\n",
    "import time\n",
    "\n",
    "%matplotlib inline"
   ]
  },
  {
   "cell_type": "markdown",
   "metadata": {},
   "source": [
    "#### Load the data"
   ]
  },
  {
   "cell_type": "code",
   "execution_count": null,
   "metadata": {},
   "outputs": [],
   "source": [
    "_A_obs, _X_obs, _z_obs = utils.load_npz('data/cora_ml.npz')\n",
    "_A_obs = _A_obs + _A_obs.T\n",
    "_A_obs[_A_obs > 1] = 1\n",
    "lcc = utils.largest_connected_components(_A_obs)\n",
    "_A_obs = _A_obs[lcc,:][:,lcc]\n",
    "_z_obs = _z_obs[lcc]\n",
    "_N = _A_obs.shape[0]"
   ]
  },
  {
   "cell_type": "code",
   "execution_count": null,
   "metadata": {},
   "outputs": [],
   "source": [
    "val_share = 0.1\n",
    "test_share = 0.05\n",
    "seed = 481516234"
   ]
  },
  {
   "cell_type": "markdown",
   "metadata": {},
   "source": [
    "#### Separate the edges into train, test, validation"
   ]
  },
  {
   "cell_type": "code",
   "execution_count": null,
   "metadata": {},
   "outputs": [],
   "source": [
    "train_ones, val_ones, val_zeros, test_ones, test_zeros = utils.train_val_test_split_adjacency(_A_obs, val_share, test_share, seed, undirected=True, connected=True, asserts=True)"
   ]
  },
  {
   "cell_type": "code",
   "execution_count": null,
   "metadata": {},
   "outputs": [],
   "source": [
    "train_graph = sp.coo_matrix((np.ones(len(train_ones)),(train_ones[:,0], train_ones[:,1]))).tocsr()\n",
    "assert (train_graph.toarray() == train_graph.toarray().T).all()"
   ]
  },
  {
   "cell_type": "markdown",
   "metadata": {},
   "source": [
    "#### Parameters"
   ]
  },
  {
   "cell_type": "code",
   "execution_count": null,
   "metadata": {},
   "outputs": [],
   "source": [
    "rw_len = 16\n",
    "batch_size = 128"
   ]
  },
  {
   "cell_type": "code",
   "execution_count": null,
   "metadata": {},
   "outputs": [],
   "source": [
    "walker = utils.RandomWalker(train_graph, rw_len, p=1, q=1, batch_size=batch_size)"
   ]
  },
  {
   "cell_type": "markdown",
   "metadata": {},
   "source": [
    "#### An example random walk"
   ]
  },
  {
   "cell_type": "code",
   "execution_count": null,
   "metadata": {},
   "outputs": [],
   "source": [
    "walker.walk().__next__()"
   ]
  },
  {
   "cell_type": "markdown",
   "metadata": {},
   "source": [
    "#### Create our NetGAN model"
   ]
  },
  {
   "cell_type": "code",
   "execution_count": null,
   "metadata": {},
   "outputs": [],
   "source": [
    "netgan = NetGAN(_N, rw_len, walk_generator= walker.walk, gpu_id=1, use_gumbel=True, disc_iters=3,\n",
    "                W_down_discriminator_size=128, W_down_generator_size=128, noise_dim=2,\n",
    "                l2_penalty_generator=1e-7, l2_penalty_discriminator=5e-5,\n",
    "                generator_layers=[40], discriminator_layers=[30], temp_start=5, learning_rate=0.0003)"
   ]
  },
  {
   "cell_type": "markdown",
   "metadata": {},
   "source": [
    "#### Define the stopping criterion"
   ]
  },
  {
   "cell_type": "code",
   "execution_count": null,
   "metadata": {},
   "outputs": [],
   "source": [
    "stopping_criterion = \"val\"\n",
    "\n",
    "assert stopping_criterion in [\"val\", \"eo\"], \"Please set the desired stopping criterion.\"\n",
    "\n",
    "if stopping_criterion == \"val\": # use val criterion for early stopping\n",
    "    stopping = None\n",
    "elif stopping_criterion == \"eo\":  #use eo criterion for early stopping\n",
    "    stopping = 0.5 # set the target edge overlap here"
   ]
  },
  {
   "cell_type": "markdown",
   "metadata": {},
   "source": [
    "#### Train the model"
   ]
  },
  {
   "cell_type": "code",
   "execution_count": null,
   "metadata": {},
   "outputs": [],
   "source": [
    "eval_every = 2000\n",
    "plot_every = 2000"
   ]
  },
  {
   "cell_type": "code",
   "execution_count": null,
   "metadata": {},
   "outputs": [],
   "source": [
    "log_dict = netgan.train(A_orig=_A_obs, val_ones=val_ones, val_zeros=val_zeros, stopping=stopping,\n",
    "                        eval_every=eval_every, plot_every=plot_every, max_patience=20, max_iters=200000)"
   ]
  },
  {
   "cell_type": "code",
   "execution_count": null,
   "metadata": {},
   "outputs": [],
   "source": [
    "log_dict.keys()"
   ]
  },
  {
   "cell_type": "code",
   "execution_count": null,
   "metadata": {},
   "outputs": [],
   "source": [
    "plt.plot(np.arange(len(log_dict['val_performances'])) * eval_every, \n",
    "         np.array(log_dict['val_performances'])[:,0], label=\"ROC-AUC\")\n",
    "plt.plot(np.arange(len(log_dict['val_performances'])) * eval_every,\n",
    "         np.array(log_dict['val_performances'])[:,1], label=\"Avg. Prec.\")\n",
    "\n",
    "plt.title(\"Validation performance during training\")\n",
    "plt.legend()\n",
    "plt.show()"
   ]
  },
  {
   "cell_type": "code",
   "execution_count": null,
   "metadata": {},
   "outputs": [],
   "source": [
    "plt.plot(np.array(log_dict['edge_overlaps'])/_A_obs.sum())\n",
    "plt.title(\"Edge overlap during training\")\n",
    "plt.show()"
   ]
  },
  {
   "cell_type": "markdown",
   "metadata": {},
   "source": [
    "#### Generate random walks on the trained model"
   ]
  },
  {
   "cell_type": "code",
   "execution_count": null,
   "metadata": {},
   "outputs": [],
   "source": [
    "noise_tf = tf.placeholder(tf.float32, shape=[10000, netgan.noise_dim])"
   ]
  },
  {
   "cell_type": "code",
   "execution_count": null,
   "metadata": {},
   "outputs": [],
   "source": [
    "sample_many = netgan.generate_discrete(10000, reuse=True, z=noise_tf)"
   ]
  },
  {
   "cell_type": "code",
   "execution_count": null,
   "metadata": {},
   "outputs": [],
   "source": [
    "from scipy.special import ndtri"
   ]
  },
  {
   "cell_type": "code",
   "execution_count": null,
   "metadata": {},
   "outputs": [],
   "source": [
    "all_walks = []\n",
    "all_noise = []\n",
    "before = time.time()\n",
    "iterations =   6000 #29144\n",
    "for it in range(iterations):\n",
    "    noise = np.random.uniform(low=0, high=1, size=[10000, netgan.noise_dim])\n",
    "    gaussian_noise = ndtri(noise)\n",
    "    walks = sample_many.eval(feed_dict={noise_tf: gaussian_noise, netgan.tau:0.5})\n",
    "    all_walks.extend(list(walks))\n",
    "    all_noise.extend(list(noise))\n",
    "    if (it+1) % 100 == 0:\n",
    "        elapsed = time.time() - before\n",
    "        print(\"{}/{} took {}, eta {}\".format(it+1, iterations, elapsed, iterations/(it+1)*elapsed - elapsed))\n",
    "\n",
    "np.savez_compressed(\"walks.npz\", \n",
    "                    walks = np.array(all_walks).astype(\"uint16\"),\n",
    "                    noise = np.array(all_noise))"
   ]
  },
  {
   "cell_type": "code",
   "execution_count": null,
   "metadata": {},
   "outputs": [],
   "source": [
    "all_walks = np.array(all_walks)\n",
    "all_noise = np.array(all_noise)"
   ]
  },
  {
   "cell_type": "code",
   "execution_count": null,
   "metadata": {},
   "outputs": [],
   "source": [
    "all_walks.shape"
   ]
  },
  {
   "cell_type": "code",
   "execution_count": null,
   "metadata": {},
   "outputs": [],
   "source": [
    "A_select = sp.csr_matrix((np.ones(len(train_ones)), (train_ones[:,0], train_ones[:,1])))"
   ]
  },
  {
   "cell_type": "markdown",
   "metadata": {},
   "source": [
    "## Latent space heatmaps"
   ]
  },
  {
   "cell_type": "code",
   "execution_count": null,
   "metadata": {},
   "outputs": [],
   "source": [
    "n_bins = 20\n",
    "bins = np.arange(0, 1, 1/n_bins)"
   ]
  },
  {
   "cell_type": "code",
   "execution_count": null,
   "metadata": {},
   "outputs": [],
   "source": [
    "noise_bins = np.floor(all_noise /  (1/n_bins)).astype('int')"
   ]
  },
  {
   "cell_type": "markdown",
   "metadata": {},
   "source": [
    "### Here we generate a graph from the random walks in each bin and measure their properties"
   ]
  },
  {
   "cell_type": "code",
   "execution_count": null,
   "metadata": {},
   "outputs": [],
   "source": [
    "graphs_bins = [[None for i in range(n_bins)] for j in range(n_bins)]\n",
    "matrices = [[None for i in range(n_bins)] for j in range(n_bins)]\n",
    "statistics = [[None for i in range(n_bins)] for j in range(n_bins)]\n",
    "begin = time.time()\n",
    "it = 0\n",
    "\n",
    "for x1 in range(n_bins):\n",
    "    for x2 in range(n_bins):\n",
    "        it += 1\n",
    "        graphs_bins[x1][x2] = utils.score_matrix_from_random_walks(all_walks[np.where((noise_bins[:,0] == x1) &\n",
    "                                                                       (noise_bins[:,1] == x2))], netgan.N)\n",
    "        graph_select = utils.graph_from_scores(graphs_bins[x1][x2], A_select.sum())\n",
    "        matrices[x1][x2] = sp.coo_matrix(graph_select)\n",
    "        statistics[x1][x2] = utils.compute_graph_statistics(graph_select)\n",
    "        elapsed = time.time() - begin\n",
    "    print(\"{}/{} took {:.2f}, eta {:.2f}\".format(it, n_bins**2, elapsed, (n_bins**2)/(it)*elapsed - elapsed))\n",
    "    "
   ]
  },
  {
   "cell_type": "code",
   "execution_count": null,
   "metadata": {},
   "outputs": [],
   "source": [
    "ks = list(statistics[0][0].keys())\n",
    "statistics_dict = {k: np.array([y[k] for x in statistics for y in x]).reshape((n_bins, n_bins)) for k in ks}"
   ]
  },
  {
   "cell_type": "code",
   "execution_count": null,
   "metadata": {},
   "outputs": [],
   "source": [
    "first_nodes = all_walks[:,0]\n",
    "degrees = A_select.sum(0).A1\n",
    "unique, indices, counts = np.unique(first_nodes, return_counts=True, return_inverse=True)"
   ]
  },
  {
   "cell_type": "code",
   "execution_count": null,
   "metadata": {},
   "outputs": [],
   "source": [
    "first_node_degrees = degrees[first_nodes]"
   ]
  },
  {
   "cell_type": "code",
   "execution_count": null,
   "metadata": {},
   "outputs": [],
   "source": [
    "from scipy.stats import entropy"
   ]
  },
  {
   "cell_type": "markdown",
   "metadata": {},
   "source": [
    "### Here we compute some statistics of the random walks themselves"
   ]
  },
  {
   "cell_type": "code",
   "execution_count": null,
   "metadata": {},
   "outputs": [],
   "source": [
    "entropies = np.zeros([n_bins, n_bins])\n",
    "one_comm = np.zeros([n_bins, n_bins])\n",
    "unique_nodes = np.zeros([n_bins, n_bins])\n",
    "first_node_comm = np.zeros([n_bins, n_bins])\n",
    "for x in range(n_bins):\n",
    "    print(x)\n",
    "    for y in range(n_bins):\n",
    "        sel = all_walks[(noise_bins[:,0] == x) & (noise_bins[:,1] == y),:]\n",
    "        ons = np.ones_like(sel)\n",
    "        first_node_communities = ons * np.expand_dims(_z_obs[sel[:,0]],1)\n",
    "        first_node_comm[x,y] = np.mean(_z_obs[sel] == first_node_communities)\n",
    "        \n",
    "        unique_firstnodes = np.unique(sel[:,0], return_counts=True)[1]\n",
    "        entr = entropy(unique_firstnodes) / np.log(len(unique_firstnodes))\n",
    "        entropies[x, y] = entr\n",
    "        \n",
    "        communities = _z_obs[sel]\n",
    "        share_one_community = (np.std(communities, axis=1) == 0).mean()\n",
    "        one_comm[x,y] = share_one_community\n",
    "        unique_nodes[x,y] = np.mean(list(map(len,(map(set,(map(tuple, sel)))))))\n",
    "        \n",
    "statistics_dict['unique_nodes'] = np.array(unique_nodes)\n",
    "statistics_dict['one_community'] = np.array(one_comm)\n",
    "statistics_dict['first_node_entropy'] = np.array(entropies)\n",
    "statistics_dict['first_node_community'] = np.array(first_node_comm)"
   ]
  },
  {
   "cell_type": "code",
   "execution_count": null,
   "metadata": {},
   "outputs": [],
   "source": [
    "statistics_dict['claw_count'] = np.log(statistics_dict['claw_count'])"
   ]
  },
  {
   "cell_type": "code",
   "execution_count": null,
   "metadata": {},
   "outputs": [],
   "source": [
    "statistics_dict['avg_starting_degree'] = np.array([np.mean(first_node_degrees[(noise_bins[:,0] == x) & (noise_bins[:,1] == y) ])\n",
    "       for x in range(n_bins) for y in range(n_bins)]).reshape((n_bins, n_bins))"
   ]
  },
  {
   "cell_type": "markdown",
   "metadata": {},
   "source": [
    "Store the results to disk so that we don't have to run all of this again"
   ]
  },
  {
   "cell_type": "code",
   "execution_count": null,
   "metadata": {},
   "outputs": [],
   "source": [
    "np.savez_compressed('intermediate/results_{}x{}.npz'.format(n_bins, n_bins), \n",
    "                    graphs = matrices,\n",
    "                    statistics = statistics_dict)"
   ]
  },
  {
   "cell_type": "markdown",
   "metadata": {},
   "source": [
    "## Load statistics from file (start here if you just want to run the visualization)"
   ]
  },
  {
   "cell_type": "markdown",
   "metadata": {},
   "source": [
    "### Uncomment the following to load from disk"
   ]
  },
  {
   "cell_type": "code",
   "execution_count": null,
   "metadata": {},
   "outputs": [],
   "source": [
    "#results = np.load('intermediate/results_{}x{}.npz'.format(n_bins, n_bins))\n",
    "#matrices = results['graphs']\n",
    "#statistics_dict = results['statistics'].item()"
   ]
  },
  {
   "cell_type": "code",
   "execution_count": null,
   "metadata": {},
   "outputs": [],
   "source": [
    "plt.rc('text', usetex=True)\n",
    "from mpl_toolkits.axes_grid1 import make_axes_locatable\n",
    "def heatmap(scores, ax, title=None, cbar=True):  \n",
    "    pl = ax.imshow(np.array(scores), cmap='inferno', interpolation='nearest', extent=[0,1,0,1])\n",
    "\n",
    "    if title is not None:\n",
    "        plt.title(title, fontsize=15)\n",
    "\n",
    "    ax.set_xticks([0,1])\n",
    "    ax.get_yaxis().set_tick_params(labelsize=15)\n",
    "    ax.get_xaxis().set_tick_params(labelsize=15)\n",
    "    ax.set_yticks([0,1])\n",
    "    ax.set_xlabel(r'$\\Phi(\\mathbf{z}_1)$', labelpad=-13, fontsize=20)\n",
    "    ax.set_ylabel(r'$\\Phi(\\mathbf{z}_2)$', labelpad=-11, fontsize=20)\n",
    "    \n",
    "    if cbar:\n",
    "        divider = make_axes_locatable(ax)\n",
    "        cax = divider.append_axes(\"right\", size=\"5%\", pad=0.1)\n",
    "        cb = plt.colorbar(pl, cax=cax)\n"
   ]
  },
  {
   "cell_type": "code",
   "execution_count": null,
   "metadata": {},
   "outputs": [],
   "source": [
    "eval_keys = ['d_max', 'assortativity', 'triangle_count', 'wedge_count', 'power_law_exp',\n",
    "             'rel_edge_distr_entropy', 'LCC', 'claw_count', 'gini', 'unique_nodes', 'one_community',\n",
    "             'first_node_entropy','first_node_community', 'avg_starting_degree', 'cpl']\n",
    "\n",
    "display_titles = {'d_max': 'Max. degree', 'assortativity': 'Assortativity', 'triangle_count': 'Triangle count',\n",
    "                  'wedge_count': 'Wedge count', 'power_law_exp': 'Power law exponent',\n",
    "                  'rel_edge_distr_entropy':'Rel. edge distribution entropy', 'LCC': 'Largest connected component',\n",
    "                  'claw_count': 'Claw count', 'gini': 'Gini coefficient', \n",
    "                 'unique_nodes': 'Unique nodes per walk', 'one_community': 'Walks in single community',\n",
    "                  'first_node_entropy': 'Entropy of starting nodes', 'first_node_community': 'Share nodes in starting comm.',\n",
    "                 'avg_starting_degree': 'Avg. degree of first node', 'cpl': 'Characteristic path length'}"
   ]
  },
  {
   "cell_type": "code",
   "execution_count": 67,
   "metadata": {},
   "outputs": [
    {
     "data": {
      "image/png": "[encoded data removed]",
      "text/plain": [
       "<Figure size 864x1080 with 30 Axes>"
      ]
     },
     "metadata": {},
     "output_type": "display_data"
    }
   ],
   "source": [
    "import matplotlib.gridspec as gridspec\n",
    "from matplotlib import rcParams\n",
    "rcParams['axes.titlepad'] = 10 \n",
    "\n",
    "n_cols = 3\n",
    "n_rows = int(np.ceil(len(display_titles)/n_cols))\n",
    "fig=plt.figure(figsize=(4*n_cols,3*n_rows))\n",
    "\n",
    "gs = gridspec.GridSpec(n_rows, n_cols, hspace=0.4)\n",
    "\n",
    "for ix,key in enumerate(eval_keys):\n",
    "    ax = plt.subplot(gs[ix // n_cols, ix % n_cols])\n",
    "    vals = statistics_dict[key]\n",
    "    heatmap(vals, ax, cbar=True, title=display_titles[key])\n",
    "\n",
    "plt.savefig(\"intermediate/heatmaps.png\", dpi=150)\n",
    "plt.show()"
   ]
  },
  {
   "cell_type": "markdown",
   "metadata": {},
   "source": [
    "## Community structure plots"
   ]
  },
  {
   "cell_type": "code",
   "execution_count": null,
   "metadata": {},
   "outputs": [],
   "source": [
    "n_bins_community = 10\n",
    "bins_community = np.arange(0, 1, 1/n_bins_community)"
   ]
  },
  {
   "cell_type": "code",
   "execution_count": null,
   "metadata": {},
   "outputs": [],
   "source": [
    "noise_bins_community = np.floor(all_noise /  (1/n_bins_community)).astype('int')"
   ]
  },
  {
   "cell_type": "code",
   "execution_count": null,
   "metadata": {},
   "outputs": [],
   "source": [
    "graphs = [[None for i in range(n_bins_community)] for j in range(n_bins_community)]\n",
    "begin = time.time()\n",
    "it = 0\n",
    "\n",
    "for x1 in range(n_bins_community):\n",
    "    for x2 in range(n_bins_community):\n",
    "        it += 1\n",
    "        scores = utils.score_matrix_from_random_walks(all_walks[np.where((noise_bins[:,0] == x1) &\n",
    "                                                                       (noise_bins[:,1] == x2))], netgan.N)\n",
    "        graph_select = utils.graph_from_scores(scores, A_select.sum())\n",
    "        graphs[x1][x2] = sp.coo_matrix(graph_select)\n",
    "        elapsed = time.time() - begin\n",
    "    print(\"{}/{} took {:.2f}, eta {:.2f}\".format(it, n_bins_community**2, elapsed, (n_bins_community**2)/(it)*elapsed - elapsed))"
   ]
  },
  {
   "cell_type": "code",
   "execution_count": null,
   "metadata": {},
   "outputs": [],
   "source": [
    "all_scores = utils.score_matrix_from_random_walks(all_walks, netgan.N)\n",
    "all_graph_select = utils.graph_from_scores(sp.coo_matrix(all_scores), A_select.sum())"
   ]
  },
  {
   "cell_type": "code",
   "execution_count": null,
   "metadata": {},
   "outputs": [],
   "source": [
    "np.savez_compressed('intermediate/results_communities_{}x{}.npz'.format(n_bins_community, n_bins_community), \n",
    "                    graphs = graphs,\n",
    "                    all_walks_graph = sp.csr_matrix(all_graph_select))"
   ]
  },
  {
   "cell_type": "markdown",
   "metadata": {},
   "source": [
    "## Load statistics from file (start here if you just want to run the visualization)"
   ]
  },
  {
   "cell_type": "markdown",
   "metadata": {},
   "source": [
    "### Uncomment the following to load from disk"
   ]
  },
  {
   "cell_type": "code",
   "execution_count": null,
   "metadata": {},
   "outputs": [],
   "source": [
    "#n_bins_community = 10\n",
    "#results = np.load('intermediate/results_communities_{}x{}.npz'.format(noise_bins_community, noise_bins_community))\n",
    "#graphs = results['graphs']\n",
    "#all_graph_select = results['all_walks_graph'].item()"
   ]
  },
  {
   "cell_type": "code",
   "execution_count": null,
   "metadata": {},
   "outputs": [],
   "source": [
    "from collections import Counter"
   ]
  },
  {
   "cell_type": "code",
   "execution_count": null,
   "metadata": {},
   "outputs": [],
   "source": [
    "n_communities = _z_obs.max()+1"
   ]
  },
  {
   "cell_type": "code",
   "execution_count": null,
   "metadata": {},
   "outputs": [],
   "source": [
    "distrs = []\n",
    "for x in range(len(graphs)):\n",
    "    for y in range(len(graphs[x])):\n",
    "        graph_internal = graphs[x][y]\n",
    "        edges = np.transpose(graph_internal.nonzero())\n",
    "        edges_communities = _z_obs[edges]\n",
    "        blocks = np.zeros((n_communities, n_communities))\n",
    "        blocks[edges_communities[:,0], edges_communities[:,1]] \n",
    "        tpls = list(map(tuple, edges_communities))\n",
    "        counts = Counter(tpls)\n",
    "        for k,v in counts.items():\n",
    "            blocks[k] = v\n",
    "        distrs.append(blocks)"
   ]
  },
  {
   "cell_type": "code",
   "execution_count": null,
   "metadata": {},
   "outputs": [],
   "source": [
    "distrs = np.array(distrs).reshape([n_bins_community, n_bins_community,n_communities, n_communities])"
   ]
  },
  {
   "cell_type": "code",
   "execution_count": 65,
   "metadata": {},
   "outputs": [
    {
     "data": {
      "image/png": "[encoded data removed]",
      "text/plain": [
       "<Figure size 792x720 with 103 Axes>"
      ]
     },
     "metadata": {},
     "output_type": "display_data"
    }
   ],
   "source": [
    "import matplotlib.patches as patches\n",
    "from matplotlib import rcParams\n",
    "rcParams['axes.titlepad'] = 20 \n",
    "\n",
    "\n",
    "font = {'family': 'serif',\n",
    "        'weight': 'normal',\n",
    "        'size': 28,\n",
    "        'ha': 'center',\n",
    "        'va': 'center'\n",
    "        }\n",
    "\n",
    "fig = plt.figure(figsize=(11, 10))\n",
    "max_height = np.max(np.sum(distrs, axis=2))\n",
    "\n",
    "# gridspec inside gridspec\n",
    "outer_grid = gridspec.GridSpec(1, 2, wspace=0.02, hspace=0.0, width_ratios=[11, 1], bottom=0.13, left=0.13)\n",
    "\n",
    "inner_grid_1 = gridspec.GridSpecFromSubplotSpec(n_bins_community, n_bins_community,\n",
    "            subplot_spec=outer_grid[0], wspace=0.1, hspace=.1)\n",
    "\n",
    "for x_ix in range(distrs.shape[0]):\n",
    "    for y_ix in range(distrs.shape[1]):\n",
    "        ax = plt.Subplot(fig, inner_grid_1[x_ix, y_ix])\n",
    "        distr = distrs[x_ix][y_ix]\n",
    "        plot_normal = ax.bar(np.arange(n_communities), np.sum(distr, axis=0), color='#444444')\n",
    "\n",
    "        ax.set_xticks([])\n",
    "        ax.set_yticks([])\n",
    "\n",
    "        fig.add_subplot(ax)\n",
    "        plt.ylim((0, max_height))\n",
    "        plt.axis('off')\n",
    "\n",
    "\n",
    "inner_grid_2 = gridspec.GridSpecFromSubplotSpec(n_bins_community, 1,\n",
    "            subplot_spec=outer_grid[1], wspace=0.0, hspace=0.1)\n",
    "\n",
    "# original graph\n",
    "ax = plt.Subplot(fig, inner_grid_2[int(n_bins_community/2)-1, 0])\n",
    "ax.patch.set_alpha(0.0)\n",
    "distr = np.zeros([n_communities, n_communities])\n",
    "graph_int = A_select\n",
    "for i in range(n_communities):\n",
    "    for j in range(n_communities):\n",
    "        sel = A_select[_z_obs ==i]\n",
    "        sel = sel[:,_z_obs == j]\n",
    "        distr[i,j] = sel.sum()\n",
    "plot_orig = ax.bar(np.arange(n_communities), np.sum(distr, axis=0),color='#386cb0')\n",
    "fig.add_subplot(ax)\n",
    "plt.ylim((0, max_height))\n",
    "plt.axis('off')\n",
    "\n",
    "# graph from all regions of z\n",
    "ax = plt.Subplot(fig, inner_grid_2[int(n_bins_community/2), 0])\n",
    "ax.patch.set_alpha(0.0)\n",
    "distr = np.zeros([n_communities, n_communities])\n",
    "graph_int = all_graph_select\n",
    "for i in range(n_communities):\n",
    "    for j in range(n_communities):\n",
    "        sel = all_graph_select[_z_obs ==i]\n",
    "        sel = sel[:,_z_obs == j]\n",
    "        distr[i,j] = sel.sum()\n",
    "plot_all_sample = ax.bar(np.arange(n_communities), np.sum(distr, axis=0),color='#999999')\n",
    "fig.add_subplot(ax)\n",
    "plt.ylim((0, max_height))\n",
    "plt.axis('off')\n",
    "\n",
    "\n",
    "all_axes = fig.get_axes()\n",
    "    \n",
    "ax = fig.add_subplot(111)\n",
    "ax.patch.set_alpha(0.0)\n",
    "\n",
    "ax.set_xticks(np.arange(0,1.1,0.1))\n",
    "ax.set_yticks(np.arange(0,1.1,0.1))\n",
    "plt.tick_params(axis='both', which='major', labelsize=20)\n",
    "text_left = plt.text(-0.1, 0.45, r'$\\Phi(\\mathbf{z}_2)$', fontdict=font, rotation=90)\n",
    "text_bot = plt.text(0.5, -0.1, r'$\\Phi(\\mathbf{z}_1)$', fontdict=font, rotation=0)\n",
    "plt.xlim((-.01, 1 + 1/n_bins_community))\n",
    "plt.ylim((-.015, .9785))\n",
    "for spine in plt.gca().spines.values():\n",
    "    spine.set_visible(False)\n",
    "plt.tick_params(top=False, bottom=False, left=False, right=False, labelleft=True, labelbottom=True)\n",
    "plt.title(\"Community distributions for subregions of $\\mathbf{z}$\", fontdict=font)\n",
    "lgd = plt.legend([plot_orig, plot_all_sample, plot_normal],\n",
    "           [\"Original community\\ndistribution\",\n",
    "            \"Community distribution on\\nall $\\mathbf{z}$ regions\",\n",
    "            \"Community distribution on\\n$\\mathbf{z}$ subregions\"],\n",
    "           bbox_to_anchor=(0.93, 0.3), labelspacing=.5, fontsize=16)\n",
    "ax.plot([-0.006,-.006],[-.011,.95] , 'k-', lw=1)\n",
    "ax.plot([.999,.999],[-.011,.95] , 'k--', lw=1)\n",
    "ax.plot([-0.006,.999],[-.011,-.011] , 'k-', lw=1)\n",
    "\n",
    "#plt.savefig( \"{}_community_distr_{}x{}.pdf\".format('cora', n_bins_community, n_bins_community),\n",
    "#           bbox_extra_artists=( text_left, text_bot), bbox_inches='tight')\n",
    "plt.show()"
   ]
  },
  {
   "cell_type": "code",
   "execution_count": null,
   "metadata": {},
   "outputs": [],
   "source": []
  }
 ],
 "metadata": {
  "kernelspec": {
   "display_name": "Python [default]",
   "language": "python",
   "name": "python3"
  },
  "language_info": {
   "codemirror_mode": {
    "name": "ipython",
    "version": 3
   },
   "file_extension": ".py",
   "mimetype": "text/x-python",
   "name": "python",
   "nbconvert_exporter": "python",
   "pygments_lexer": "ipython3",
   "version": "3.6.4"
  }
 },
 "nbformat": 4,
 "nbformat_minor": 2
}
