{
 "cells": [
  {
   "cell_type": "code",
   "execution_count": 1,
   "metadata": {},
   "outputs": [],
   "source": [
    "import warnings\n",
    "warnings.filterwarnings('ignore')\n",
    "\n",
    "import pickle\n",
    "import numpy as np\n",
    "import scipy.sparse as sp\n",
    "from scipy.sparse import load_npz\n",
    "\n",
    "import torch\n",
    "\n",
    "from cell.utils import link_prediction_performance\n",
    "from cell.cell import Cell, EdgeOverlapCriterion, LinkPredictionCriterion\n",
    "from cell.graph_statistics import compute_graph_statistics"
   ]
  },
  {
   "cell_type": "markdown",
   "metadata": {},
   "source": [
    "# Load graph and validation-/ test edges (same split as in paper)"
   ]
  },
  {
   "cell_type": "code",
   "execution_count": 2,
   "metadata": {},
   "outputs": [],
   "source": [
    "train_graph = load_npz('./data/CORA-ML_train.npz')\n",
    "with open('./data/link_prediction.p', 'rb') as handle:\n",
    "    val_ones, val_zeros, test_ones, test_zeros = pickle.load(handle)"
   ]
  },
  {
   "cell_type": "code",
   "execution_count": 11,
   "metadata": {},
   "outputs": [
    {
     "data": {
      "text/plain": [
       "<2810x2810 sparse matrix of type '<class 'numpy.float64'>'\n",
       "\twith 13566 stored elements in Compressed Sparse Row format>"
      ]
     },
     "execution_count": 11,
     "metadata": {},
     "output_type": "execute_result"
    }
   ],
   "source": [
    "train_graph"
   ]
  },
  {
   "cell_type": "code",
   "execution_count": 16,
   "metadata": {},
   "outputs": [
    {
     "name": "stdout",
     "output_type": "stream",
     "text": [
      "[1914 2693] [2693 1914]\n"
     ]
    }
   ],
   "source": [
    "len(val_ones)\n",
    "print(val_ones[798], val_ones[0])"
   ]
  },
  {
   "cell_type": "markdown",
   "metadata": {},
   "source": [
    "## Edge overlap criterion"
   ]
  },
  {
   "cell_type": "code",
   "execution_count": 3,
   "metadata": {},
   "outputs": [],
   "source": [
    "# initialize model with EO-criterion\n",
    "model = Cell(A=train_graph,\n",
    "             H=9,\n",
    "             callbacks=[EdgeOverlapCriterion(invoke_every=10, edge_overlap_limit=.5)])"
   ]
  },
  {
   "cell_type": "code",
   "execution_count": 4,
   "metadata": {},
   "outputs": [
    {
     "name": "stdout",
     "output_type": "stream",
     "text": [
      "Step:  10/200 Loss: 6.00380 Edge-Overlap: 0.035 Total-Time: 3\n",
      "Step:  20/200 Loss: 4.07511 Edge-Overlap: 0.281 Total-Time: 6\n",
      "Step:  30/200 Loss: 3.32519 Edge-Overlap: 0.442 Total-Time: 10\n",
      "Step:  40/200 Loss: 2.96738 Edge-Overlap: 0.551 Total-Time: 13\n"
     ]
    }
   ],
   "source": [
    "# train model \n",
    "model.train(steps=200,\n",
    "            optimizer_fn=torch.optim.Adam,\n",
    "            optimizer_args={'lr': 0.1,\n",
    "                            'weight_decay': 1e-7})"
   ]
  },
  {
   "cell_type": "code",
   "execution_count": 5,
   "metadata": {},
   "outputs": [],
   "source": [
    "generated_graph = model.sample_graph()"
   ]
  },
  {
   "cell_type": "code",
   "execution_count": 6,
   "metadata": {
    "scrolled": false
   },
   "outputs": [
    {
     "data": {
      "text/plain": [
       "{'d_max': 199.0,\n",
       " 'd_min': 1.0,\n",
       " 'd': 4.8277580071174375,\n",
       " 'LCC': 2798,\n",
       " 'wedge_count': 80653.0,\n",
       " 'claw_count': 1748949.0,\n",
       " 'triangle_count': 1312,\n",
       " 'square_count': 6372.0,\n",
       " 'power_law_exp': 1.8271905683271248,\n",
       " 'gini': 0.4563266025646071,\n",
       " 'rel_edge_distr_entropy': 0.9497564252141653,\n",
       " 'assortativity': -0.0732222705079979,\n",
       " 'clustering_coefficient': 0.04880165647899024,\n",
       " 'cpl': 5.270692451767936}"
      ]
     },
     "execution_count": 6,
     "metadata": {},
     "output_type": "execute_result"
    }
   ],
   "source": [
    "compute_graph_statistics(generated_graph)"
   ]
  },
  {
   "cell_type": "code",
   "execution_count": 7,
   "metadata": {},
   "outputs": [
    {
     "data": {
      "text/plain": [
       "{'d_max': 238.0,\n",
       " 'd_min': 1.0,\n",
       " 'd': 4.8277580071174375,\n",
       " 'LCC': 2810,\n",
       " 'wedge_count': 101747.0,\n",
       " 'claw_count': 3033514.0,\n",
       " 'triangle_count': 2802,\n",
       " 'square_count': 14268.0,\n",
       " 'power_law_exp': 1.8550648593086239,\n",
       " 'gini': 0.4825742921255409,\n",
       " 'rel_edge_distr_entropy': 0.9406652031225717,\n",
       " 'assortativity': -0.07626405450439543,\n",
       " 'clustering_coefficient': 0.08261668648707088,\n",
       " 'cpl': 5.630006245811316}"
      ]
     },
     "execution_count": 7,
     "metadata": {},
     "output_type": "execute_result"
    }
   ],
   "source": [
    "compute_graph_statistics(train_graph)"
   ]
  },
  {
   "cell_type": "markdown",
   "metadata": {},
   "source": [
    "## Validation criterion"
   ]
  },
  {
   "cell_type": "code",
   "execution_count": 8,
   "metadata": {},
   "outputs": [],
   "source": [
    "# initialize model with LP-criterion\n",
    "model = Cell(A=train_graph,\n",
    "             H=9,\n",
    "             callbacks=[LinkPredictionCriterion(invoke_every=2,\n",
    "                                                val_ones=val_ones,\n",
    "                                                val_zeros=val_zeros,\n",
    "                                                max_patience=3)])"
   ]
  },
  {
   "cell_type": "code",
   "execution_count": 17,
   "metadata": {},
   "outputs": [
    {
     "name": "stdout",
     "output_type": "stream",
     "text": [
      "1596 1596 800 800\n"
     ]
    }
   ],
   "source": [
    "print(len(val_ones), len(val_zeros), len(test_ones), len(test_zeros))"
   ]
  },
  {
   "cell_type": "code",
   "execution_count": 9,
   "metadata": {},
   "outputs": [
    {
     "name": "stdout",
     "output_type": "stream",
     "text": [
      "Step:   2/200 Loss: 7.92516 ROC-AUC Score: 0.579 Average Precision: 0.572 Total-Time: 0\n",
      "Step:   4/200 Loss: 7.71899 ROC-AUC Score: 0.640 Average Precision: 0.642 Total-Time: 1\n",
      "Step:   6/200 Loss: 7.29670 ROC-AUC Score: 0.681 Average Precision: 0.694 Total-Time: 1\n",
      "Step:   8/200 Loss: 6.69369 ROC-AUC Score: 0.722 Average Precision: 0.741 Total-Time: 2\n",
      "Step:  10/200 Loss: 6.03576 ROC-AUC Score: 0.778 Average Precision: 0.798 Total-Time: 2\n",
      "Step:  12/200 Loss: 5.45817 ROC-AUC Score: 0.830 Average Precision: 0.848 Total-Time: 3\n",
      "Step:  14/200 Loss: 5.03277 ROC-AUC Score: 0.866 Average Precision: 0.881 Total-Time: 3\n",
      "Step:  16/200 Loss: 4.69655 ROC-AUC Score: 0.882 Average Precision: 0.898 Total-Time: 4\n",
      "Step:  18/200 Loss: 4.38538 ROC-AUC Score: 0.891 Average Precision: 0.906 Total-Time: 4\n",
      "Step:  20/200 Loss: 4.12517 ROC-AUC Score: 0.899 Average Precision: 0.911 Total-Time: 4\n",
      "Step:  22/200 Loss: 3.91924 ROC-AUC Score: 0.908 Average Precision: 0.918 Total-Time: 5\n",
      "Step:  24/200 Loss: 3.73268 ROC-AUC Score: 0.916 Average Precision: 0.925 Total-Time: 5\n",
      "Step:  26/200 Loss: 3.57767 ROC-AUC Score: 0.921 Average Precision: 0.930 Total-Time: 6\n",
      "Step:  28/200 Loss: 3.44762 ROC-AUC Score: 0.924 Average Precision: 0.933 Total-Time: 6\n",
      "Step:  30/200 Loss: 3.33320 ROC-AUC Score: 0.927 Average Precision: 0.934 Total-Time: 7\n",
      "Step:  32/200 Loss: 3.23767 ROC-AUC Score: 0.929 Average Precision: 0.936 Total-Time: 7\n",
      "Step:  34/200 Loss: 3.15514 ROC-AUC Score: 0.931 Average Precision: 0.938 Total-Time: 8\n",
      "Step:  36/200 Loss: 3.08297 ROC-AUC Score: 0.933 Average Precision: 0.940 Total-Time: 8\n",
      "Step:  38/200 Loss: 3.02138 ROC-AUC Score: 0.934 Average Precision: 0.940 Total-Time: 9\n",
      "Step:  40/200 Loss: 2.96663 ROC-AUC Score: 0.934 Average Precision: 0.940 Total-Time: 9\n",
      "Step:  42/200 Loss: 2.91870 ROC-AUC Score: 0.934 Average Precision: 0.940 Total-Time: 10\n",
      "Step:  44/200 Loss: 2.87595 ROC-AUC Score: 0.934 Average Precision: 0.939 Total-Time: 10\n",
      "Step:  46/200 Loss: 2.83812 ROC-AUC Score: 0.934 Average Precision: 0.939 Total-Time: 11\n",
      "Step:  48/200 Loss: 2.80406 ROC-AUC Score: 0.935 Average Precision: 0.939 Total-Time: 11\n",
      "Step:  50/200 Loss: 2.77304 ROC-AUC Score: 0.935 Average Precision: 0.938 Total-Time: 12\n"
     ]
    }
   ],
   "source": [
    "# train model \n",
    "model.train(steps=200,\n",
    "            optimizer_fn=torch.optim.Adam,\n",
    "            optimizer_args={'lr': 0.1,\n",
    "                            'weight_decay': 1e-6})"
   ]
  },
  {
   "cell_type": "markdown",
   "metadata": {},
   "source": [
    "#### Link prediction performance for ROC-AUC score and average precision"
   ]
  },
  {
   "cell_type": "code",
   "execution_count": 10,
   "metadata": {},
   "outputs": [
    {
     "data": {
      "text/plain": [
       "(0.9347875, 0.9434454020897184)"
      ]
     },
     "execution_count": 10,
     "metadata": {},
     "output_type": "execute_result"
    }
   ],
   "source": [
    "link_prediction_performance(scores_matrix=model._scores_matrix, val_ones=test_ones, val_zeros=test_zeros)"
   ]
  }
 ],
 "metadata": {
  "kernelspec": {
   "display_name": "Python 3",
   "language": "python",
   "name": "python3"
  },
  "language_info": {
   "codemirror_mode": {
    "name": "ipython",
    "version": 3
   },
   "file_extension": ".py",
   "mimetype": "text/x-python",
   "name": "python",
   "nbconvert_exporter": "python",
   "pygments_lexer": "ipython3",
   "version": "3.8.5"
  }
 },
 "nbformat": 4,
 "nbformat_minor": 2
}
